{
 "cells": [
  {
   "cell_type": "markdown",
   "metadata": {},
   "source": [
    "# KC Housing Data"
   ]
  },
  {
   "cell_type": "code",
   "execution_count": 2,
   "metadata": {},
   "outputs": [
    {
     "data": {
      "text/plain": [
       "(17290, 22)"
      ]
     },
     "execution_count": 2,
     "metadata": {},
     "output_type": "execute_result"
    }
   ],
   "source": [
    "import matplotlib.pyplot as plt\n",
    "from math import exp\n",
    "from scipy.stats import norm\n",
    "from scipy import stats\n",
    "import seaborn as sns\n",
    "import numpy as np \n",
    "import pandas as pd\n",
    "from sklearn.model_selection import train_test_split\n",
    "from sklearn.linear_model import LinearRegression\n",
    "from sklearn import metrics\n",
    "\n",
    "import warnings\n",
    "warnings.filterwarnings(\"ignore\")\n",
    "pd.set_option('display.max_columns', 300)\n",
    "df = pd.read_csv('kc_house_data_train.csv')\n",
    "df.shape"
   ]
  },
  {
   "cell_type": "code",
   "execution_count": 3,
   "metadata": {},
   "outputs": [
    {
     "data": {
      "text/html": [
       "<div>\n",
       "<style scoped>\n",
       "    .dataframe tbody tr th:only-of-type {\n",
       "        vertical-align: middle;\n",
       "    }\n",
       "\n",
       "    .dataframe tbody tr th {\n",
       "        vertical-align: top;\n",
       "    }\n",
       "\n",
       "    .dataframe thead th {\n",
       "        text-align: right;\n",
       "    }\n",
       "</style>\n",
       "<table border=\"1\" class=\"dataframe\">\n",
       "  <thead>\n",
       "    <tr style=\"text-align: right;\">\n",
       "      <th></th>\n",
       "      <th>Unnamed: 0</th>\n",
       "      <th>id</th>\n",
       "      <th>date</th>\n",
       "      <th>price</th>\n",
       "      <th>bedrooms</th>\n",
       "      <th>bathrooms</th>\n",
       "      <th>sqft_living</th>\n",
       "      <th>sqft_lot</th>\n",
       "      <th>floors</th>\n",
       "      <th>waterfront</th>\n",
       "      <th>view</th>\n",
       "      <th>condition</th>\n",
       "      <th>grade</th>\n",
       "      <th>sqft_above</th>\n",
       "      <th>sqft_basement</th>\n",
       "      <th>yr_built</th>\n",
       "      <th>yr_renovated</th>\n",
       "      <th>zipcode</th>\n",
       "      <th>lat</th>\n",
       "      <th>long</th>\n",
       "      <th>sqft_living15</th>\n",
       "      <th>sqft_lot15</th>\n",
       "    </tr>\n",
       "  </thead>\n",
       "  <tbody>\n",
       "    <tr>\n",
       "      <th>0</th>\n",
       "      <td>0</td>\n",
       "      <td>2591820310</td>\n",
       "      <td>20141006T000000</td>\n",
       "      <td>365000.0</td>\n",
       "      <td>4</td>\n",
       "      <td>2.25</td>\n",
       "      <td>2070</td>\n",
       "      <td>8893</td>\n",
       "      <td>2.0</td>\n",
       "      <td>0</td>\n",
       "      <td>0</td>\n",
       "      <td>4</td>\n",
       "      <td>8</td>\n",
       "      <td>2070</td>\n",
       "      <td>0</td>\n",
       "      <td>1986</td>\n",
       "      <td>0</td>\n",
       "      <td>98058</td>\n",
       "      <td>47.4388</td>\n",
       "      <td>-122.162</td>\n",
       "      <td>2390</td>\n",
       "      <td>7700</td>\n",
       "    </tr>\n",
       "    <tr>\n",
       "      <th>1</th>\n",
       "      <td>1</td>\n",
       "      <td>7974200820</td>\n",
       "      <td>20140821T000000</td>\n",
       "      <td>865000.0</td>\n",
       "      <td>5</td>\n",
       "      <td>3.00</td>\n",
       "      <td>2900</td>\n",
       "      <td>6730</td>\n",
       "      <td>1.0</td>\n",
       "      <td>0</td>\n",
       "      <td>0</td>\n",
       "      <td>5</td>\n",
       "      <td>8</td>\n",
       "      <td>1830</td>\n",
       "      <td>1070</td>\n",
       "      <td>1977</td>\n",
       "      <td>0</td>\n",
       "      <td>98115</td>\n",
       "      <td>47.6784</td>\n",
       "      <td>-122.285</td>\n",
       "      <td>2370</td>\n",
       "      <td>6283</td>\n",
       "    </tr>\n",
       "    <tr>\n",
       "      <th>2</th>\n",
       "      <td>2</td>\n",
       "      <td>7701450110</td>\n",
       "      <td>20140815T000000</td>\n",
       "      <td>1038000.0</td>\n",
       "      <td>4</td>\n",
       "      <td>2.50</td>\n",
       "      <td>3770</td>\n",
       "      <td>10893</td>\n",
       "      <td>2.0</td>\n",
       "      <td>0</td>\n",
       "      <td>2</td>\n",
       "      <td>3</td>\n",
       "      <td>11</td>\n",
       "      <td>3770</td>\n",
       "      <td>0</td>\n",
       "      <td>1997</td>\n",
       "      <td>0</td>\n",
       "      <td>98006</td>\n",
       "      <td>47.5646</td>\n",
       "      <td>-122.129</td>\n",
       "      <td>3710</td>\n",
       "      <td>9685</td>\n",
       "    </tr>\n",
       "    <tr>\n",
       "      <th>3</th>\n",
       "      <td>3</td>\n",
       "      <td>9522300010</td>\n",
       "      <td>20150331T000000</td>\n",
       "      <td>1490000.0</td>\n",
       "      <td>3</td>\n",
       "      <td>3.50</td>\n",
       "      <td>4560</td>\n",
       "      <td>14608</td>\n",
       "      <td>2.0</td>\n",
       "      <td>0</td>\n",
       "      <td>2</td>\n",
       "      <td>3</td>\n",
       "      <td>12</td>\n",
       "      <td>4560</td>\n",
       "      <td>0</td>\n",
       "      <td>1990</td>\n",
       "      <td>0</td>\n",
       "      <td>98034</td>\n",
       "      <td>47.6995</td>\n",
       "      <td>-122.228</td>\n",
       "      <td>4050</td>\n",
       "      <td>14226</td>\n",
       "    </tr>\n",
       "    <tr>\n",
       "      <th>4</th>\n",
       "      <td>4</td>\n",
       "      <td>9510861140</td>\n",
       "      <td>20140714T000000</td>\n",
       "      <td>711000.0</td>\n",
       "      <td>3</td>\n",
       "      <td>2.50</td>\n",
       "      <td>2550</td>\n",
       "      <td>5376</td>\n",
       "      <td>2.0</td>\n",
       "      <td>0</td>\n",
       "      <td>0</td>\n",
       "      <td>3</td>\n",
       "      <td>9</td>\n",
       "      <td>2550</td>\n",
       "      <td>0</td>\n",
       "      <td>2004</td>\n",
       "      <td>0</td>\n",
       "      <td>98052</td>\n",
       "      <td>47.6647</td>\n",
       "      <td>-122.083</td>\n",
       "      <td>2250</td>\n",
       "      <td>4050</td>\n",
       "    </tr>\n",
       "  </tbody>\n",
       "</table>\n",
       "</div>"
      ],
      "text/plain": [
       "   Unnamed: 0          id             date      price  bedrooms  bathrooms  \\\n",
       "0           0  2591820310  20141006T000000   365000.0         4       2.25   \n",
       "1           1  7974200820  20140821T000000   865000.0         5       3.00   \n",
       "2           2  7701450110  20140815T000000  1038000.0         4       2.50   \n",
       "3           3  9522300010  20150331T000000  1490000.0         3       3.50   \n",
       "4           4  9510861140  20140714T000000   711000.0         3       2.50   \n",
       "\n",
       "   sqft_living  sqft_lot  floors  waterfront  view  condition  grade  \\\n",
       "0         2070      8893     2.0           0     0          4      8   \n",
       "1         2900      6730     1.0           0     0          5      8   \n",
       "2         3770     10893     2.0           0     2          3     11   \n",
       "3         4560     14608     2.0           0     2          3     12   \n",
       "4         2550      5376     2.0           0     0          3      9   \n",
       "\n",
       "   sqft_above  sqft_basement  yr_built  yr_renovated  zipcode      lat  \\\n",
       "0        2070              0      1986             0    98058  47.4388   \n",
       "1        1830           1070      1977             0    98115  47.6784   \n",
       "2        3770              0      1997             0    98006  47.5646   \n",
       "3        4560              0      1990             0    98034  47.6995   \n",
       "4        2550              0      2004             0    98052  47.6647   \n",
       "\n",
       "      long  sqft_living15  sqft_lot15  \n",
       "0 -122.162           2390        7700  \n",
       "1 -122.285           2370        6283  \n",
       "2 -122.129           3710        9685  \n",
       "3 -122.228           4050       14226  \n",
       "4 -122.083           2250        4050  "
      ]
     },
     "execution_count": 3,
     "metadata": {},
     "output_type": "execute_result"
    }
   ],
   "source": [
    "df.head()"
   ]
  },
  {
   "cell_type": "code",
   "execution_count": 6,
   "metadata": {},
   "outputs": [
    {
     "data": {
      "text/plain": [
       "Unnamed: 0       0\n",
       "id               0\n",
       "date             0\n",
       "price            0\n",
       "bedrooms         0\n",
       "bathrooms        0\n",
       "sqft_living      0\n",
       "sqft_lot         0\n",
       "floors           0\n",
       "waterfront       0\n",
       "view             0\n",
       "condition        0\n",
       "grade            0\n",
       "sqft_above       0\n",
       "sqft_basement    0\n",
       "yr_built         0\n",
       "yr_renovated     0\n",
       "zipcode          0\n",
       "lat              0\n",
       "long             0\n",
       "sqft_living15    0\n",
       "sqft_lot15       0\n",
       "dtype: int64"
      ]
     },
     "execution_count": 6,
     "metadata": {},
     "output_type": "execute_result"
    }
   ],
   "source": [
    "df.isna().sum()"
   ]
  },
  {
   "cell_type": "code",
   "execution_count": 7,
   "metadata": {},
   "outputs": [
    {
     "data": {
      "text/html": [
       "<div>\n",
       "<style scoped>\n",
       "    .dataframe tbody tr th:only-of-type {\n",
       "        vertical-align: middle;\n",
       "    }\n",
       "\n",
       "    .dataframe tbody tr th {\n",
       "        vertical-align: top;\n",
       "    }\n",
       "\n",
       "    .dataframe thead th {\n",
       "        text-align: right;\n",
       "    }\n",
       "</style>\n",
       "<table border=\"1\" class=\"dataframe\">\n",
       "  <thead>\n",
       "    <tr style=\"text-align: right;\">\n",
       "      <th></th>\n",
       "      <th>Unnamed: 0</th>\n",
       "      <th>id</th>\n",
       "      <th>price</th>\n",
       "      <th>bedrooms</th>\n",
       "      <th>bathrooms</th>\n",
       "      <th>sqft_living</th>\n",
       "      <th>sqft_lot</th>\n",
       "      <th>floors</th>\n",
       "      <th>waterfront</th>\n",
       "      <th>view</th>\n",
       "      <th>condition</th>\n",
       "      <th>grade</th>\n",
       "      <th>sqft_above</th>\n",
       "      <th>sqft_basement</th>\n",
       "      <th>yr_built</th>\n",
       "      <th>yr_renovated</th>\n",
       "      <th>zipcode</th>\n",
       "      <th>lat</th>\n",
       "      <th>long</th>\n",
       "      <th>sqft_living15</th>\n",
       "      <th>sqft_lot15</th>\n",
       "    </tr>\n",
       "  </thead>\n",
       "  <tbody>\n",
       "    <tr>\n",
       "      <th>count</th>\n",
       "      <td>17290.000000</td>\n",
       "      <td>1.729000e+04</td>\n",
       "      <td>1.729000e+04</td>\n",
       "      <td>17290.000000</td>\n",
       "      <td>17290.000000</td>\n",
       "      <td>17290.000000</td>\n",
       "      <td>1.729000e+04</td>\n",
       "      <td>17290.000000</td>\n",
       "      <td>17290.000000</td>\n",
       "      <td>17290.000000</td>\n",
       "      <td>17290.000000</td>\n",
       "      <td>17290.000000</td>\n",
       "      <td>17290.000000</td>\n",
       "      <td>17290.000000</td>\n",
       "      <td>17290.000000</td>\n",
       "      <td>17290.000000</td>\n",
       "      <td>17290.000000</td>\n",
       "      <td>17290.000000</td>\n",
       "      <td>17290.000000</td>\n",
       "      <td>17290.000000</td>\n",
       "      <td>17290.000000</td>\n",
       "    </tr>\n",
       "    <tr>\n",
       "      <th>mean</th>\n",
       "      <td>8644.500000</td>\n",
       "      <td>4.565502e+09</td>\n",
       "      <td>5.407395e+05</td>\n",
       "      <td>3.372470</td>\n",
       "      <td>2.111943</td>\n",
       "      <td>2081.464604</td>\n",
       "      <td>1.524340e+04</td>\n",
       "      <td>1.490312</td>\n",
       "      <td>0.007981</td>\n",
       "      <td>0.238519</td>\n",
       "      <td>3.408502</td>\n",
       "      <td>7.654425</td>\n",
       "      <td>1789.306015</td>\n",
       "      <td>292.158589</td>\n",
       "      <td>1970.792019</td>\n",
       "      <td>83.806304</td>\n",
       "      <td>98078.193175</td>\n",
       "      <td>47.560058</td>\n",
       "      <td>-122.214258</td>\n",
       "      <td>1987.986698</td>\n",
       "      <td>12873.475824</td>\n",
       "    </tr>\n",
       "    <tr>\n",
       "      <th>std</th>\n",
       "      <td>4991.337413</td>\n",
       "      <td>2.874656e+09</td>\n",
       "      <td>3.733190e+05</td>\n",
       "      <td>0.939346</td>\n",
       "      <td>0.770476</td>\n",
       "      <td>920.018539</td>\n",
       "      <td>4.230462e+04</td>\n",
       "      <td>0.538909</td>\n",
       "      <td>0.088985</td>\n",
       "      <td>0.775229</td>\n",
       "      <td>0.651296</td>\n",
       "      <td>1.174718</td>\n",
       "      <td>829.265107</td>\n",
       "      <td>443.151874</td>\n",
       "      <td>29.343516</td>\n",
       "      <td>400.329376</td>\n",
       "      <td>53.607949</td>\n",
       "      <td>0.138412</td>\n",
       "      <td>0.140857</td>\n",
       "      <td>684.802635</td>\n",
       "      <td>27227.437583</td>\n",
       "    </tr>\n",
       "    <tr>\n",
       "      <th>min</th>\n",
       "      <td>0.000000</td>\n",
       "      <td>1.000102e+06</td>\n",
       "      <td>7.500000e+04</td>\n",
       "      <td>0.000000</td>\n",
       "      <td>0.000000</td>\n",
       "      <td>290.000000</td>\n",
       "      <td>5.720000e+02</td>\n",
       "      <td>1.000000</td>\n",
       "      <td>0.000000</td>\n",
       "      <td>0.000000</td>\n",
       "      <td>1.000000</td>\n",
       "      <td>1.000000</td>\n",
       "      <td>290.000000</td>\n",
       "      <td>0.000000</td>\n",
       "      <td>1900.000000</td>\n",
       "      <td>0.000000</td>\n",
       "      <td>98001.000000</td>\n",
       "      <td>47.155900</td>\n",
       "      <td>-122.519000</td>\n",
       "      <td>399.000000</td>\n",
       "      <td>659.000000</td>\n",
       "    </tr>\n",
       "    <tr>\n",
       "      <th>25%</th>\n",
       "      <td>4322.250000</td>\n",
       "      <td>2.114701e+09</td>\n",
       "      <td>3.210000e+05</td>\n",
       "      <td>3.000000</td>\n",
       "      <td>1.500000</td>\n",
       "      <td>1430.000000</td>\n",
       "      <td>5.081250e+03</td>\n",
       "      <td>1.000000</td>\n",
       "      <td>0.000000</td>\n",
       "      <td>0.000000</td>\n",
       "      <td>3.000000</td>\n",
       "      <td>7.000000</td>\n",
       "      <td>1200.000000</td>\n",
       "      <td>0.000000</td>\n",
       "      <td>1951.000000</td>\n",
       "      <td>0.000000</td>\n",
       "      <td>98033.000000</td>\n",
       "      <td>47.471200</td>\n",
       "      <td>-122.329000</td>\n",
       "      <td>1490.000000</td>\n",
       "      <td>5111.250000</td>\n",
       "    </tr>\n",
       "    <tr>\n",
       "      <th>50%</th>\n",
       "      <td>8644.500000</td>\n",
       "      <td>3.903650e+09</td>\n",
       "      <td>4.500000e+05</td>\n",
       "      <td>3.000000</td>\n",
       "      <td>2.250000</td>\n",
       "      <td>1920.000000</td>\n",
       "      <td>7.642000e+03</td>\n",
       "      <td>1.500000</td>\n",
       "      <td>0.000000</td>\n",
       "      <td>0.000000</td>\n",
       "      <td>3.000000</td>\n",
       "      <td>7.000000</td>\n",
       "      <td>1560.000000</td>\n",
       "      <td>0.000000</td>\n",
       "      <td>1974.000000</td>\n",
       "      <td>0.000000</td>\n",
       "      <td>98065.000000</td>\n",
       "      <td>47.571600</td>\n",
       "      <td>-122.230000</td>\n",
       "      <td>1840.000000</td>\n",
       "      <td>7622.500000</td>\n",
       "    </tr>\n",
       "    <tr>\n",
       "      <th>75%</th>\n",
       "      <td>12966.750000</td>\n",
       "      <td>7.301150e+09</td>\n",
       "      <td>6.450000e+05</td>\n",
       "      <td>4.000000</td>\n",
       "      <td>2.500000</td>\n",
       "      <td>2550.000000</td>\n",
       "      <td>1.072575e+04</td>\n",
       "      <td>2.000000</td>\n",
       "      <td>0.000000</td>\n",
       "      <td>0.000000</td>\n",
       "      <td>4.000000</td>\n",
       "      <td>8.000000</td>\n",
       "      <td>2214.500000</td>\n",
       "      <td>560.000000</td>\n",
       "      <td>1996.000000</td>\n",
       "      <td>0.000000</td>\n",
       "      <td>98118.000000</td>\n",
       "      <td>47.677900</td>\n",
       "      <td>-122.126000</td>\n",
       "      <td>2360.000000</td>\n",
       "      <td>10101.750000</td>\n",
       "    </tr>\n",
       "    <tr>\n",
       "      <th>max</th>\n",
       "      <td>17289.000000</td>\n",
       "      <td>9.900000e+09</td>\n",
       "      <td>7.700000e+06</td>\n",
       "      <td>33.000000</td>\n",
       "      <td>8.000000</td>\n",
       "      <td>13540.000000</td>\n",
       "      <td>1.651359e+06</td>\n",
       "      <td>3.500000</td>\n",
       "      <td>1.000000</td>\n",
       "      <td>4.000000</td>\n",
       "      <td>5.000000</td>\n",
       "      <td>13.000000</td>\n",
       "      <td>9410.000000</td>\n",
       "      <td>4820.000000</td>\n",
       "      <td>2015.000000</td>\n",
       "      <td>2015.000000</td>\n",
       "      <td>98199.000000</td>\n",
       "      <td>47.777600</td>\n",
       "      <td>-121.315000</td>\n",
       "      <td>6210.000000</td>\n",
       "      <td>858132.000000</td>\n",
       "    </tr>\n",
       "  </tbody>\n",
       "</table>\n",
       "</div>"
      ],
      "text/plain": [
       "         Unnamed: 0            id         price      bedrooms     bathrooms  \\\n",
       "count  17290.000000  1.729000e+04  1.729000e+04  17290.000000  17290.000000   \n",
       "mean    8644.500000  4.565502e+09  5.407395e+05      3.372470      2.111943   \n",
       "std     4991.337413  2.874656e+09  3.733190e+05      0.939346      0.770476   \n",
       "min        0.000000  1.000102e+06  7.500000e+04      0.000000      0.000000   \n",
       "25%     4322.250000  2.114701e+09  3.210000e+05      3.000000      1.500000   \n",
       "50%     8644.500000  3.903650e+09  4.500000e+05      3.000000      2.250000   \n",
       "75%    12966.750000  7.301150e+09  6.450000e+05      4.000000      2.500000   \n",
       "max    17289.000000  9.900000e+09  7.700000e+06     33.000000      8.000000   \n",
       "\n",
       "        sqft_living      sqft_lot        floors    waterfront          view  \\\n",
       "count  17290.000000  1.729000e+04  17290.000000  17290.000000  17290.000000   \n",
       "mean    2081.464604  1.524340e+04      1.490312      0.007981      0.238519   \n",
       "std      920.018539  4.230462e+04      0.538909      0.088985      0.775229   \n",
       "min      290.000000  5.720000e+02      1.000000      0.000000      0.000000   \n",
       "25%     1430.000000  5.081250e+03      1.000000      0.000000      0.000000   \n",
       "50%     1920.000000  7.642000e+03      1.500000      0.000000      0.000000   \n",
       "75%     2550.000000  1.072575e+04      2.000000      0.000000      0.000000   \n",
       "max    13540.000000  1.651359e+06      3.500000      1.000000      4.000000   \n",
       "\n",
       "          condition         grade    sqft_above  sqft_basement      yr_built  \\\n",
       "count  17290.000000  17290.000000  17290.000000   17290.000000  17290.000000   \n",
       "mean       3.408502      7.654425   1789.306015     292.158589   1970.792019   \n",
       "std        0.651296      1.174718    829.265107     443.151874     29.343516   \n",
       "min        1.000000      1.000000    290.000000       0.000000   1900.000000   \n",
       "25%        3.000000      7.000000   1200.000000       0.000000   1951.000000   \n",
       "50%        3.000000      7.000000   1560.000000       0.000000   1974.000000   \n",
       "75%        4.000000      8.000000   2214.500000     560.000000   1996.000000   \n",
       "max        5.000000     13.000000   9410.000000    4820.000000   2015.000000   \n",
       "\n",
       "       yr_renovated       zipcode           lat          long  sqft_living15  \\\n",
       "count  17290.000000  17290.000000  17290.000000  17290.000000   17290.000000   \n",
       "mean      83.806304  98078.193175     47.560058   -122.214258    1987.986698   \n",
       "std      400.329376     53.607949      0.138412      0.140857     684.802635   \n",
       "min        0.000000  98001.000000     47.155900   -122.519000     399.000000   \n",
       "25%        0.000000  98033.000000     47.471200   -122.329000    1490.000000   \n",
       "50%        0.000000  98065.000000     47.571600   -122.230000    1840.000000   \n",
       "75%        0.000000  98118.000000     47.677900   -122.126000    2360.000000   \n",
       "max     2015.000000  98199.000000     47.777600   -121.315000    6210.000000   \n",
       "\n",
       "          sqft_lot15  \n",
       "count   17290.000000  \n",
       "mean    12873.475824  \n",
       "std     27227.437583  \n",
       "min       659.000000  \n",
       "25%      5111.250000  \n",
       "50%      7622.500000  \n",
       "75%     10101.750000  \n",
       "max    858132.000000  "
      ]
     },
     "execution_count": 7,
     "metadata": {},
     "output_type": "execute_result"
    }
   ],
   "source": [
    "df.describe()"
   ]
  },
  {
   "cell_type": "code",
   "execution_count": 9,
   "metadata": {},
   "outputs": [
    {
     "data": {
      "text/plain": [
       "<matplotlib.axes._subplots.AxesSubplot at 0x7ff0c63599a0>"
      ]
     },
     "execution_count": 9,
     "metadata": {},
     "output_type": "execute_result"
    },
    {
     "data": {
      "image/png": "[encoded data removed]",
      "text/plain": [
       "<Figure size 432x288 with 1 Axes>"
      ]
     },
     "metadata": {
      "needs_background": "light"
     },
     "output_type": "display_data"
    }
   ],
   "source": [
    "sns.distplot(df['price'])"
   ]
  },
  {
   "cell_type": "code",
   "execution_count": 14,
   "metadata": {},
   "outputs": [
    {
     "name": "stdout",
     "output_type": "stream",
     "text": [
      "Skewness: 4.282599\n",
      "Kurtosis: 38.520298\n"
     ]
    }
   ],
   "source": [
    "print(\"Skewness: %f\" % (df['price']).skew())\n",
    "print(\"Kurtosis: %f\" % (df['price']).kurt())"
   ]
  },
  {
   "cell_type": "code",
   "execution_count": 11,
   "metadata": {},
   "outputs": [
    {
     "data": {
      "text/plain": [
       "<matplotlib.axes._subplots.AxesSubplot at 0x7ff0c64a8700>"
      ]
     },
     "execution_count": 11,
     "metadata": {},
     "output_type": "execute_result"
    },
    {
     "data": {
      "image/png": "[encoded data removed]",
      "text/plain": [
       "<Figure size 432x288 with 1 Axes>"
      ]
     },
     "metadata": {
      "needs_background": "light"
     },
     "output_type": "display_data"
    }
   ],
   "source": [
    "sns.distplot(np.log(df['price']))"
   ]
  },
  {
   "cell_type": "code",
   "execution_count": 13,
   "metadata": {},
   "outputs": [
    {
     "name": "stdout",
     "output_type": "stream",
     "text": [
      "Skewness: 0.446582\n",
      "Kurtosis: 0.767354\n"
     ]
    }
   ],
   "source": [
    "print(\"Skewness: %f\" % np.log(df['price']).skew())\n",
    "print(\"Kurtosis: %f\" % np.log(df['price']).kurt())"
   ]
  },
  {
   "cell_type": "code",
   "execution_count": 21,
   "metadata": {},
   "outputs": [
    {
     "data": {
      "text/plain": [
       "<matplotlib.axes._subplots.AxesSubplot at 0x7ff0c7b5b0a0>"
      ]
     },
     "execution_count": 21,
     "metadata": {},
     "output_type": "execute_result"
    },
    {
     "data": {
      "image/png": "[encoded data removed]",
      "text/plain": [
       "<Figure size 720x360 with 1 Axes>"
      ]
     },
     "metadata": {
      "needs_background": "light"
     },
     "output_type": "display_data"
    }
   ],
   "source": [
    "fig, axes = plt.subplots(figsize = (10,5))\n",
    "sns.boxplot(x= 'bedrooms', data = df)"
   ]
  },
  {
   "cell_type": "markdown",
   "metadata": {},
   "source": [
    "A few outliers. Need to check into bedrooms"
   ]
  },
  {
   "cell_type": "markdown",
   "metadata": {},
   "source": [
    "Next, we look into any observations that may have untrue sqft reports or underestimated bedrooms."
   ]
  },
  {
   "cell_type": "code",
   "execution_count": 22,
   "metadata": {},
   "outputs": [],
   "source": [
    "df['liv_lot_ratio'] = df['sqft_living'] / df['sqft_lot']"
   ]
  },
  {
   "cell_type": "code",
   "execution_count": 23,
   "metadata": {},
   "outputs": [
    {
     "data": {
      "text/plain": [
       "<matplotlib.axes._subplots.AxesSubplot at 0x7ff0c90da610>"
      ]
     },
     "execution_count": 23,
     "metadata": {},
     "output_type": "execute_result"
    },
    {
     "data": {
      "image/png": "[encoded data removed]",
      "text/plain": [
       "<Figure size 720x360 with 1 Axes>"
      ]
     },
     "metadata": {
      "needs_background": "light"
     },
     "output_type": "display_data"
    }
   ],
   "source": [
    "fig, axes = plt.subplots(figsize = (10,5))\n",
    "sns.boxplot(x= 'liv_lot_ratio', data = df)"
   ]
  },
  {
   "cell_type": "code",
   "execution_count": 41,
   "metadata": {},
   "outputs": [
    {
     "data": {
      "text/plain": [
       "0.32034193446760534"
      ]
     },
     "execution_count": 41,
     "metadata": {},
     "output_type": "execute_result"
    }
   ],
   "source": [
    "df['liv_lot_ratio'].mean()"
   ]
  },
  {
   "cell_type": "code",
   "execution_count": 44,
   "metadata": {},
   "outputs": [
    {
     "data": {
      "text/plain": [
       "2.1875"
      ]
     },
     "execution_count": 44,
     "metadata": {},
     "output_type": "execute_result"
    }
   ],
   "source": [
    "df['liv_lot_ratio'].max()"
   ]
  },
  {
   "cell_type": "code",
   "execution_count": 46,
   "metadata": {},
   "outputs": [
    {
     "data": {
      "text/plain": [
       "0.0006095498431482305"
      ]
     },
     "execution_count": 46,
     "metadata": {},
     "output_type": "execute_result"
    }
   ],
   "source": [
    "df['liv_lot_ratio'].min()\n",
    "\n",
    "# the lot with the smallest house to land ratio"
   ]
  },
  {
   "cell_type": "code",
   "execution_count": 42,
   "metadata": {},
   "outputs": [
    {
     "data": {
      "text/plain": [
       "0.24653432914046122"
      ]
     },
     "execution_count": 42,
     "metadata": {},
     "output_type": "execute_result"
    }
   ],
   "source": [
    "df['liv_lot_ratio'].median()"
   ]
  },
  {
   "cell_type": "markdown",
   "metadata": {},
   "source": [
    "There are some houses that may have multiple stories. Will cross reference with price and bedrooms. "
   ]
  },
  {
   "cell_type": "markdown",
   "metadata": {},
   "source": [
    "Now to look at lots that may not be residential but businesses or farms."
   ]
  },
  {
   "cell_type": "code",
   "execution_count": 24,
   "metadata": {},
   "outputs": [],
   "source": [
    "df['lot_liv_ratio'] = df['sqft_lot'] / df['sqft_living']"
   ]
  },
  {
   "cell_type": "code",
   "execution_count": 27,
   "metadata": {},
   "outputs": [
    {
     "data": {
      "text/plain": [
       "<matplotlib.axes._subplots.AxesSubplot at 0x7ff0c8269a00>"
      ]
     },
     "execution_count": 27,
     "metadata": {},
     "output_type": "execute_result"
    },
    {
     "data": {
      "image/png": "[encoded data removed]",
      "text/plain": [
       "<Figure size 1440x360 with 1 Axes>"
      ]
     },
     "metadata": {
      "needs_background": "light"
     },
     "output_type": "display_data"
    }
   ],
   "source": [
    "fig, axes = plt.subplots(figsize = (20,5))\n",
    "sns.boxplot(x= 'lot_liv_ratio', data = df)"
   ]
  },
  {
   "cell_type": "code",
   "execution_count": 47,
   "metadata": {},
   "outputs": [
    {
     "data": {
      "text/plain": [
       "7.565406095871723"
      ]
     },
     "execution_count": 47,
     "metadata": {},
     "output_type": "execute_result"
    }
   ],
   "source": [
    "df['lot_liv_ratio'].mean()"
   ]
  },
  {
   "cell_type": "code",
   "execution_count": 48,
   "metadata": {},
   "outputs": [
    {
     "data": {
      "text/plain": [
       "0.45714285714285713"
      ]
     },
     "execution_count": 48,
     "metadata": {},
     "output_type": "execute_result"
    }
   ],
   "source": [
    "df['lot_liv_ratio'].min()"
   ]
  },
  {
   "cell_type": "code",
   "execution_count": 49,
   "metadata": {},
   "outputs": [
    {
     "data": {
      "text/plain": [
       "1640.5549295774647"
      ]
     },
     "execution_count": 49,
     "metadata": {},
     "output_type": "execute_result"
    }
   ],
   "source": [
    "df['lot_liv_ratio'].max()"
   ]
  },
  {
   "cell_type": "code",
   "execution_count": 50,
   "metadata": {},
   "outputs": [
    {
     "data": {
      "text/plain": [
       "4.056230238574303"
      ]
     },
     "execution_count": 50,
     "metadata": {},
     "output_type": "execute_result"
    }
   ],
   "source": [
    "df['lot_liv_ratio'].median()"
   ]
  },
  {
   "cell_type": "markdown",
   "metadata": {},
   "source": [
    "There are some that may be mislabeled. Cross reference with bedrooms, bathrooms, and price. \n",
    "\n",
    "Going to have to sort through and determine what is a residence and what isn't."
   ]
  },
  {
   "cell_type": "code",
   "execution_count": 28,
   "metadata": {},
   "outputs": [
    {
     "data": {
      "text/plain": [
       "Index(['Unnamed: 0', 'id', 'date', 'price', 'bedrooms', 'bathrooms',\n",
       "       'sqft_living', 'sqft_lot', 'floors', 'waterfront', 'view', 'condition',\n",
       "       'grade', 'sqft_above', 'sqft_basement', 'yr_built', 'yr_renovated',\n",
       "       'zipcode', 'lat', 'long', 'sqft_living15', 'sqft_lot15',\n",
       "       'liv_lot_ratio', 'lot_liv_ratio'],\n",
       "      dtype='object')"
      ]
     },
     "execution_count": 28,
     "metadata": {},
     "output_type": "execute_result"
    }
   ],
   "source": [
    "df. columns"
   ]
  },
  {
   "cell_type": "code",
   "execution_count": 29,
   "metadata": {},
   "outputs": [],
   "source": [
    "features = [ 'bedrooms', 'bathrooms',\n",
    "       'sqft_living', 'sqft_lot', 'floors', 'waterfront', 'view', 'condition',\n",
    "       'grade', 'sqft_above', 'sqft_basement', 'yr_built', 'yr_renovated',\n",
    "       'zipcode', 'lat', 'long', 'sqft_living15', 'sqft_lot15',\n",
    "       'liv_lot_ratio', 'lot_liv_ratio']"
   ]
  },
  {
   "cell_type": "code",
   "execution_count": 30,
   "metadata": {},
   "outputs": [
    {
     "data": {
      "image/png": "[encoded data removed]",
      "text/plain": [
       "<Figure size 648x216 with 3 Axes>"
      ]
     },
     "metadata": {
      "needs_background": "light"
     },
     "output_type": "display_data"
    },
    {
     "data": {
      "image/png": "[encoded data removed]",
      "text/plain": [
       "<Figure size 648x216 with 3 Axes>"
      ]
     },
     "metadata": {
      "needs_background": "light"
     },
     "output_type": "display_data"
    },
    {
     "data": {
      "image/png": "[encoded data removed]",
      "text/plain": [
       "<Figure size 648x216 with 3 Axes>"
      ]
     },
     "metadata": {
      "needs_background": "light"
     },
     "output_type": "display_data"
    },
    {
     "data": {
      "image/png": "[encoded data removed]",
      "text/plain": [
       "<Figure size 648x216 with 3 Axes>"
      ]
     },
     "metadata": {
      "needs_background": "light"
     },
     "output_type": "display_data"
    },
    {
     "data": {
      "image/png": "[encoded data removed]",
      "text/plain": [
       "<Figure size 648x216 with 3 Axes>"
      ]
     },
     "metadata": {
      "needs_background": "light"
     },
     "output_type": "display_data"
    },
    {
     "data": {
      "image/png": "[encoded data removed]",
      "text/plain": [
       "<Figure size 648x216 with 3 Axes>"
      ]
     },
     "metadata": {
      "needs_background": "light"
     },
     "output_type": "display_data"
    },
    {
     "data": {
      "image/png": "[encoded data removed]",
      "text/plain": [
       "<Figure size 432x216 with 2 Axes>"
      ]
     },
     "metadata": {
      "needs_background": "light"
     },
     "output_type": "display_data"
    }
   ],
   "source": [
    "n = 3\n",
    "row_groups= [features[i:i+n] for i in range(0, len(features), n) ]\n",
    "\n",
    "for i in row_groups:\n",
    "    pp = sns.pairplot(data=df, y_vars=['price'],x_vars=i, kind=\"reg\", height=3)"
   ]
  },
  {
   "cell_type": "markdown",
   "metadata": {},
   "source": [
    "First going to look at bedrooms"
   ]
  },
  {
   "cell_type": "code",
   "execution_count": 31,
   "metadata": {},
   "outputs": [
    {
     "data": {
      "text/plain": [
       "<matplotlib.axes._subplots.AxesSubplot at 0x7ff0c7906970>"
      ]
     },
     "execution_count": 31,
     "metadata": {},
     "output_type": "execute_result"
    },
    {
     "data": {
      "image/png": "[encoded data removed]",
      "text/plain": [
       "<Figure size 432x288 with 1 Axes>"
      ]
     },
     "metadata": {
      "needs_background": "light"
     },
     "output_type": "display_data"
    }
   ],
   "source": [
    "sns.distplot(df['bedrooms'])"
   ]
  },
  {
   "cell_type": "code",
   "execution_count": 33,
   "metadata": {},
   "outputs": [
    {
     "data": {
      "text/plain": [
       "<matplotlib.axes._subplots.AxesSubplot at 0x7ff0cb28d9a0>"
      ]
     },
     "execution_count": 33,
     "metadata": {},
     "output_type": "execute_result"
    },
    {
     "data": {
      "image/png": "[encoded data removed]",
      "text/plain": [
       "<Figure size 432x288 with 1 Axes>"
      ]
     },
     "metadata": {
      "needs_background": "light"
     },
     "output_type": "display_data"
    }
   ],
   "source": [
    "df.boxplot(column = 'bedrooms')"
   ]
  },
  {
   "cell_type": "code",
   "execution_count": 36,
   "metadata": {},
   "outputs": [
    {
     "data": {
      "text/plain": [
       "3     7864\n",
       "4     5488\n",
       "2     2204\n",
       "5     1283\n",
       "6      229\n",
       "1      160\n",
       "7       30\n",
       "0       12\n",
       "8       10\n",
       "9        5\n",
       "10       3\n",
       "11       1\n",
       "33       1\n",
       "Name: bedrooms, dtype: int64"
      ]
     },
     "execution_count": 36,
     "metadata": {},
     "output_type": "execute_result"
    }
   ],
   "source": [
    "df['bedrooms'].value_counts()"
   ]
  },
  {
   "cell_type": "code",
   "execution_count": 40,
   "metadata": {},
   "outputs": [
    {
     "data": {
      "text/html": [
       "<div>\n",
       "<style scoped>\n",
       "    .dataframe tbody tr th:only-of-type {\n",
       "        vertical-align: middle;\n",
       "    }\n",
       "\n",
       "    .dataframe tbody tr th {\n",
       "        vertical-align: top;\n",
       "    }\n",
       "\n",
       "    .dataframe thead th {\n",
       "        text-align: right;\n",
       "    }\n",
       "</style>\n",
       "<table border=\"1\" class=\"dataframe\">\n",
       "  <thead>\n",
       "    <tr style=\"text-align: right;\">\n",
       "      <th></th>\n",
       "      <th>Unnamed: 0</th>\n",
       "      <th>id</th>\n",
       "      <th>date</th>\n",
       "      <th>price</th>\n",
       "      <th>bedrooms</th>\n",
       "      <th>bathrooms</th>\n",
       "      <th>sqft_living</th>\n",
       "      <th>sqft_lot</th>\n",
       "      <th>floors</th>\n",
       "      <th>waterfront</th>\n",
       "      <th>view</th>\n",
       "      <th>condition</th>\n",
       "      <th>grade</th>\n",
       "      <th>sqft_above</th>\n",
       "      <th>sqft_basement</th>\n",
       "      <th>yr_built</th>\n",
       "      <th>yr_renovated</th>\n",
       "      <th>zipcode</th>\n",
       "      <th>lat</th>\n",
       "      <th>long</th>\n",
       "      <th>sqft_living15</th>\n",
       "      <th>sqft_lot15</th>\n",
       "      <th>liv_lot_ratio</th>\n",
       "      <th>lot_liv_ratio</th>\n",
       "    </tr>\n",
       "  </thead>\n",
       "  <tbody>\n",
       "    <tr>\n",
       "      <th>483</th>\n",
       "      <td>483</td>\n",
       "      <td>3374500520</td>\n",
       "      <td>20150429T000000</td>\n",
       "      <td>355000.0</td>\n",
       "      <td>0</td>\n",
       "      <td>0.00</td>\n",
       "      <td>2460</td>\n",
       "      <td>8049</td>\n",
       "      <td>2.0</td>\n",
       "      <td>0</td>\n",
       "      <td>0</td>\n",
       "      <td>3</td>\n",
       "      <td>8</td>\n",
       "      <td>2460</td>\n",
       "      <td>0</td>\n",
       "      <td>1990</td>\n",
       "      <td>0</td>\n",
       "      <td>98031</td>\n",
       "      <td>47.4095</td>\n",
       "      <td>-122.168</td>\n",
       "      <td>2520</td>\n",
       "      <td>8050</td>\n",
       "      <td>0.305628</td>\n",
       "      <td>3.271951</td>\n",
       "    </tr>\n",
       "    <tr>\n",
       "      <th>1120</th>\n",
       "      <td>1120</td>\n",
       "      <td>6306400140</td>\n",
       "      <td>20140612T000000</td>\n",
       "      <td>1095000.0</td>\n",
       "      <td>0</td>\n",
       "      <td>0.00</td>\n",
       "      <td>3064</td>\n",
       "      <td>4764</td>\n",
       "      <td>3.5</td>\n",
       "      <td>0</td>\n",
       "      <td>2</td>\n",
       "      <td>3</td>\n",
       "      <td>7</td>\n",
       "      <td>3064</td>\n",
       "      <td>0</td>\n",
       "      <td>1990</td>\n",
       "      <td>0</td>\n",
       "      <td>98102</td>\n",
       "      <td>47.6362</td>\n",
       "      <td>-122.322</td>\n",
       "      <td>2360</td>\n",
       "      <td>4000</td>\n",
       "      <td>0.643157</td>\n",
       "      <td>1.554830</td>\n",
       "    </tr>\n",
       "    <tr>\n",
       "      <th>2356</th>\n",
       "      <td>2356</td>\n",
       "      <td>1773100755</td>\n",
       "      <td>20140821T000000</td>\n",
       "      <td>520000.0</td>\n",
       "      <td>11</td>\n",
       "      <td>3.00</td>\n",
       "      <td>3000</td>\n",
       "      <td>4960</td>\n",
       "      <td>2.0</td>\n",
       "      <td>0</td>\n",
       "      <td>0</td>\n",
       "      <td>3</td>\n",
       "      <td>7</td>\n",
       "      <td>2400</td>\n",
       "      <td>600</td>\n",
       "      <td>1918</td>\n",
       "      <td>1999</td>\n",
       "      <td>98106</td>\n",
       "      <td>47.5560</td>\n",
       "      <td>-122.363</td>\n",
       "      <td>1420</td>\n",
       "      <td>4960</td>\n",
       "      <td>0.604839</td>\n",
       "      <td>1.653333</td>\n",
       "    </tr>\n",
       "    <tr>\n",
       "      <th>2430</th>\n",
       "      <td>2430</td>\n",
       "      <td>1222029077</td>\n",
       "      <td>20141029T000000</td>\n",
       "      <td>265000.0</td>\n",
       "      <td>0</td>\n",
       "      <td>0.75</td>\n",
       "      <td>384</td>\n",
       "      <td>213444</td>\n",
       "      <td>1.0</td>\n",
       "      <td>0</td>\n",
       "      <td>0</td>\n",
       "      <td>3</td>\n",
       "      <td>4</td>\n",
       "      <td>384</td>\n",
       "      <td>0</td>\n",
       "      <td>2003</td>\n",
       "      <td>0</td>\n",
       "      <td>98070</td>\n",
       "      <td>47.4177</td>\n",
       "      <td>-122.491</td>\n",
       "      <td>1920</td>\n",
       "      <td>224341</td>\n",
       "      <td>0.001799</td>\n",
       "      <td>555.843750</td>\n",
       "    </tr>\n",
       "    <tr>\n",
       "      <th>3032</th>\n",
       "      <td>3032</td>\n",
       "      <td>7849202190</td>\n",
       "      <td>20141223T000000</td>\n",
       "      <td>235000.0</td>\n",
       "      <td>0</td>\n",
       "      <td>0.00</td>\n",
       "      <td>1470</td>\n",
       "      <td>4800</td>\n",
       "      <td>2.0</td>\n",
       "      <td>0</td>\n",
       "      <td>0</td>\n",
       "      <td>3</td>\n",
       "      <td>7</td>\n",
       "      <td>1470</td>\n",
       "      <td>0</td>\n",
       "      <td>1996</td>\n",
       "      <td>0</td>\n",
       "      <td>98065</td>\n",
       "      <td>47.5265</td>\n",
       "      <td>-121.828</td>\n",
       "      <td>1060</td>\n",
       "      <td>7200</td>\n",
       "      <td>0.306250</td>\n",
       "      <td>3.265306</td>\n",
       "    </tr>\n",
       "    <tr>\n",
       "      <th>3425</th>\n",
       "      <td>3425</td>\n",
       "      <td>424049043</td>\n",
       "      <td>20140811T000000</td>\n",
       "      <td>450000.0</td>\n",
       "      <td>9</td>\n",
       "      <td>7.50</td>\n",
       "      <td>4050</td>\n",
       "      <td>6504</td>\n",
       "      <td>2.0</td>\n",
       "      <td>0</td>\n",
       "      <td>0</td>\n",
       "      <td>3</td>\n",
       "      <td>7</td>\n",
       "      <td>4050</td>\n",
       "      <td>0</td>\n",
       "      <td>1996</td>\n",
       "      <td>0</td>\n",
       "      <td>98144</td>\n",
       "      <td>47.5923</td>\n",
       "      <td>-122.301</td>\n",
       "      <td>1448</td>\n",
       "      <td>3866</td>\n",
       "      <td>0.622694</td>\n",
       "      <td>1.605926</td>\n",
       "    </tr>\n",
       "    <tr>\n",
       "      <th>3609</th>\n",
       "      <td>3609</td>\n",
       "      <td>2569500210</td>\n",
       "      <td>20141117T000000</td>\n",
       "      <td>339950.0</td>\n",
       "      <td>0</td>\n",
       "      <td>2.50</td>\n",
       "      <td>2290</td>\n",
       "      <td>8319</td>\n",
       "      <td>2.0</td>\n",
       "      <td>0</td>\n",
       "      <td>0</td>\n",
       "      <td>3</td>\n",
       "      <td>8</td>\n",
       "      <td>2290</td>\n",
       "      <td>0</td>\n",
       "      <td>1985</td>\n",
       "      <td>0</td>\n",
       "      <td>98042</td>\n",
       "      <td>47.3473</td>\n",
       "      <td>-122.151</td>\n",
       "      <td>2500</td>\n",
       "      <td>8751</td>\n",
       "      <td>0.275273</td>\n",
       "      <td>3.632751</td>\n",
       "    </tr>\n",
       "    <tr>\n",
       "      <th>3680</th>\n",
       "      <td>3680</td>\n",
       "      <td>8812401450</td>\n",
       "      <td>20141229T000000</td>\n",
       "      <td>660000.0</td>\n",
       "      <td>10</td>\n",
       "      <td>3.00</td>\n",
       "      <td>2920</td>\n",
       "      <td>3745</td>\n",
       "      <td>2.0</td>\n",
       "      <td>0</td>\n",
       "      <td>0</td>\n",
       "      <td>4</td>\n",
       "      <td>7</td>\n",
       "      <td>1860</td>\n",
       "      <td>1060</td>\n",
       "      <td>1913</td>\n",
       "      <td>0</td>\n",
       "      <td>98105</td>\n",
       "      <td>47.6635</td>\n",
       "      <td>-122.320</td>\n",
       "      <td>1810</td>\n",
       "      <td>3745</td>\n",
       "      <td>0.779706</td>\n",
       "      <td>1.282534</td>\n",
       "    </tr>\n",
       "    <tr>\n",
       "      <th>5424</th>\n",
       "      <td>5424</td>\n",
       "      <td>3918400017</td>\n",
       "      <td>20150205T000000</td>\n",
       "      <td>380000.0</td>\n",
       "      <td>0</td>\n",
       "      <td>0.00</td>\n",
       "      <td>1470</td>\n",
       "      <td>979</td>\n",
       "      <td>3.0</td>\n",
       "      <td>0</td>\n",
       "      <td>2</td>\n",
       "      <td>3</td>\n",
       "      <td>8</td>\n",
       "      <td>1470</td>\n",
       "      <td>0</td>\n",
       "      <td>2006</td>\n",
       "      <td>0</td>\n",
       "      <td>98133</td>\n",
       "      <td>47.7145</td>\n",
       "      <td>-122.356</td>\n",
       "      <td>1470</td>\n",
       "      <td>1399</td>\n",
       "      <td>1.501532</td>\n",
       "      <td>0.665986</td>\n",
       "    </tr>\n",
       "    <tr>\n",
       "      <th>6409</th>\n",
       "      <td>6409</td>\n",
       "      <td>1453602309</td>\n",
       "      <td>20140805T000000</td>\n",
       "      <td>288000.0</td>\n",
       "      <td>0</td>\n",
       "      <td>1.50</td>\n",
       "      <td>1430</td>\n",
       "      <td>1650</td>\n",
       "      <td>3.0</td>\n",
       "      <td>0</td>\n",
       "      <td>0</td>\n",
       "      <td>3</td>\n",
       "      <td>7</td>\n",
       "      <td>1430</td>\n",
       "      <td>0</td>\n",
       "      <td>1999</td>\n",
       "      <td>0</td>\n",
       "      <td>98125</td>\n",
       "      <td>47.7222</td>\n",
       "      <td>-122.290</td>\n",
       "      <td>1430</td>\n",
       "      <td>1650</td>\n",
       "      <td>0.866667</td>\n",
       "      <td>1.153846</td>\n",
       "    </tr>\n",
       "    <tr>\n",
       "      <th>8207</th>\n",
       "      <td>8207</td>\n",
       "      <td>8823900290</td>\n",
       "      <td>20150317T000000</td>\n",
       "      <td>1400000.0</td>\n",
       "      <td>9</td>\n",
       "      <td>4.00</td>\n",
       "      <td>4620</td>\n",
       "      <td>5508</td>\n",
       "      <td>2.5</td>\n",
       "      <td>0</td>\n",
       "      <td>0</td>\n",
       "      <td>3</td>\n",
       "      <td>11</td>\n",
       "      <td>3870</td>\n",
       "      <td>750</td>\n",
       "      <td>1915</td>\n",
       "      <td>0</td>\n",
       "      <td>98105</td>\n",
       "      <td>47.6684</td>\n",
       "      <td>-122.309</td>\n",
       "      <td>2710</td>\n",
       "      <td>4320</td>\n",
       "      <td>0.838780</td>\n",
       "      <td>1.192208</td>\n",
       "    </tr>\n",
       "    <tr>\n",
       "      <th>8446</th>\n",
       "      <td>8446</td>\n",
       "      <td>8823901445</td>\n",
       "      <td>20150313T000000</td>\n",
       "      <td>934000.0</td>\n",
       "      <td>9</td>\n",
       "      <td>3.00</td>\n",
       "      <td>2820</td>\n",
       "      <td>4480</td>\n",
       "      <td>2.0</td>\n",
       "      <td>0</td>\n",
       "      <td>0</td>\n",
       "      <td>3</td>\n",
       "      <td>7</td>\n",
       "      <td>1880</td>\n",
       "      <td>940</td>\n",
       "      <td>1918</td>\n",
       "      <td>0</td>\n",
       "      <td>98105</td>\n",
       "      <td>47.6654</td>\n",
       "      <td>-122.307</td>\n",
       "      <td>2460</td>\n",
       "      <td>4400</td>\n",
       "      <td>0.629464</td>\n",
       "      <td>1.588652</td>\n",
       "    </tr>\n",
       "    <tr>\n",
       "      <th>8597</th>\n",
       "      <td>8597</td>\n",
       "      <td>2402100895</td>\n",
       "      <td>20140625T000000</td>\n",
       "      <td>640000.0</td>\n",
       "      <td>33</td>\n",
       "      <td>1.75</td>\n",
       "      <td>1620</td>\n",
       "      <td>6000</td>\n",
       "      <td>1.0</td>\n",
       "      <td>0</td>\n",
       "      <td>0</td>\n",
       "      <td>5</td>\n",
       "      <td>7</td>\n",
       "      <td>1040</td>\n",
       "      <td>580</td>\n",
       "      <td>1947</td>\n",
       "      <td>0</td>\n",
       "      <td>98103</td>\n",
       "      <td>47.6878</td>\n",
       "      <td>-122.331</td>\n",
       "      <td>1330</td>\n",
       "      <td>4700</td>\n",
       "      <td>0.270000</td>\n",
       "      <td>3.703704</td>\n",
       "    </tr>\n",
       "    <tr>\n",
       "      <th>8624</th>\n",
       "      <td>8624</td>\n",
       "      <td>1997200215</td>\n",
       "      <td>20140507T000000</td>\n",
       "      <td>599999.0</td>\n",
       "      <td>9</td>\n",
       "      <td>4.50</td>\n",
       "      <td>3830</td>\n",
       "      <td>6988</td>\n",
       "      <td>2.5</td>\n",
       "      <td>0</td>\n",
       "      <td>0</td>\n",
       "      <td>3</td>\n",
       "      <td>7</td>\n",
       "      <td>2450</td>\n",
       "      <td>1380</td>\n",
       "      <td>1938</td>\n",
       "      <td>0</td>\n",
       "      <td>98103</td>\n",
       "      <td>47.6927</td>\n",
       "      <td>-122.338</td>\n",
       "      <td>1460</td>\n",
       "      <td>6291</td>\n",
       "      <td>0.548082</td>\n",
       "      <td>1.824543</td>\n",
       "    </tr>\n",
       "    <tr>\n",
       "      <th>9286</th>\n",
       "      <td>9286</td>\n",
       "      <td>2954400190</td>\n",
       "      <td>20140624T000000</td>\n",
       "      <td>1295650.0</td>\n",
       "      <td>0</td>\n",
       "      <td>0.00</td>\n",
       "      <td>4810</td>\n",
       "      <td>28008</td>\n",
       "      <td>2.0</td>\n",
       "      <td>0</td>\n",
       "      <td>0</td>\n",
       "      <td>3</td>\n",
       "      <td>12</td>\n",
       "      <td>4810</td>\n",
       "      <td>0</td>\n",
       "      <td>1990</td>\n",
       "      <td>0</td>\n",
       "      <td>98053</td>\n",
       "      <td>47.6642</td>\n",
       "      <td>-122.069</td>\n",
       "      <td>4740</td>\n",
       "      <td>35061</td>\n",
       "      <td>0.171737</td>\n",
       "      <td>5.822869</td>\n",
       "    </tr>\n",
       "    <tr>\n",
       "      <th>10067</th>\n",
       "      <td>10067</td>\n",
       "      <td>3980300371</td>\n",
       "      <td>20140926T000000</td>\n",
       "      <td>142000.0</td>\n",
       "      <td>0</td>\n",
       "      <td>0.00</td>\n",
       "      <td>290</td>\n",
       "      <td>20875</td>\n",
       "      <td>1.0</td>\n",
       "      <td>0</td>\n",
       "      <td>0</td>\n",
       "      <td>1</td>\n",
       "      <td>1</td>\n",
       "      <td>290</td>\n",
       "      <td>0</td>\n",
       "      <td>1963</td>\n",
       "      <td>0</td>\n",
       "      <td>98024</td>\n",
       "      <td>47.5308</td>\n",
       "      <td>-121.888</td>\n",
       "      <td>1620</td>\n",
       "      <td>22850</td>\n",
       "      <td>0.013892</td>\n",
       "      <td>71.982759</td>\n",
       "    </tr>\n",
       "    <tr>\n",
       "      <th>10074</th>\n",
       "      <td>10074</td>\n",
       "      <td>2310060040</td>\n",
       "      <td>20140925T000000</td>\n",
       "      <td>240000.0</td>\n",
       "      <td>0</td>\n",
       "      <td>2.50</td>\n",
       "      <td>1810</td>\n",
       "      <td>5669</td>\n",
       "      <td>2.0</td>\n",
       "      <td>0</td>\n",
       "      <td>0</td>\n",
       "      <td>3</td>\n",
       "      <td>7</td>\n",
       "      <td>1810</td>\n",
       "      <td>0</td>\n",
       "      <td>2003</td>\n",
       "      <td>0</td>\n",
       "      <td>98038</td>\n",
       "      <td>47.3493</td>\n",
       "      <td>-122.053</td>\n",
       "      <td>1810</td>\n",
       "      <td>5685</td>\n",
       "      <td>0.319280</td>\n",
       "      <td>3.132044</td>\n",
       "    </tr>\n",
       "    <tr>\n",
       "      <th>11181</th>\n",
       "      <td>11181</td>\n",
       "      <td>627300145</td>\n",
       "      <td>20140814T000000</td>\n",
       "      <td>1148000.0</td>\n",
       "      <td>10</td>\n",
       "      <td>5.25</td>\n",
       "      <td>4590</td>\n",
       "      <td>10920</td>\n",
       "      <td>1.0</td>\n",
       "      <td>0</td>\n",
       "      <td>2</td>\n",
       "      <td>3</td>\n",
       "      <td>9</td>\n",
       "      <td>2500</td>\n",
       "      <td>2090</td>\n",
       "      <td>2008</td>\n",
       "      <td>0</td>\n",
       "      <td>98004</td>\n",
       "      <td>47.5861</td>\n",
       "      <td>-122.113</td>\n",
       "      <td>2730</td>\n",
       "      <td>10400</td>\n",
       "      <td>0.420330</td>\n",
       "      <td>2.379085</td>\n",
       "    </tr>\n",
       "    <tr>\n",
       "      <th>13989</th>\n",
       "      <td>13989</td>\n",
       "      <td>6896300380</td>\n",
       "      <td>20141002T000000</td>\n",
       "      <td>228000.0</td>\n",
       "      <td>0</td>\n",
       "      <td>1.00</td>\n",
       "      <td>390</td>\n",
       "      <td>5900</td>\n",
       "      <td>1.0</td>\n",
       "      <td>0</td>\n",
       "      <td>0</td>\n",
       "      <td>2</td>\n",
       "      <td>4</td>\n",
       "      <td>390</td>\n",
       "      <td>0</td>\n",
       "      <td>1953</td>\n",
       "      <td>0</td>\n",
       "      <td>98118</td>\n",
       "      <td>47.5260</td>\n",
       "      <td>-122.261</td>\n",
       "      <td>2170</td>\n",
       "      <td>6000</td>\n",
       "      <td>0.066102</td>\n",
       "      <td>15.128205</td>\n",
       "    </tr>\n",
       "    <tr>\n",
       "      <th>14156</th>\n",
       "      <td>14156</td>\n",
       "      <td>2902200015</td>\n",
       "      <td>20150106T000000</td>\n",
       "      <td>700000.0</td>\n",
       "      <td>9</td>\n",
       "      <td>3.00</td>\n",
       "      <td>3680</td>\n",
       "      <td>4400</td>\n",
       "      <td>2.0</td>\n",
       "      <td>0</td>\n",
       "      <td>0</td>\n",
       "      <td>3</td>\n",
       "      <td>7</td>\n",
       "      <td>2830</td>\n",
       "      <td>850</td>\n",
       "      <td>1908</td>\n",
       "      <td>0</td>\n",
       "      <td>98102</td>\n",
       "      <td>47.6374</td>\n",
       "      <td>-122.324</td>\n",
       "      <td>1960</td>\n",
       "      <td>2450</td>\n",
       "      <td>0.836364</td>\n",
       "      <td>1.195652</td>\n",
       "    </tr>\n",
       "    <tr>\n",
       "      <th>15733</th>\n",
       "      <td>15733</td>\n",
       "      <td>7849202299</td>\n",
       "      <td>20150218T000000</td>\n",
       "      <td>320000.0</td>\n",
       "      <td>0</td>\n",
       "      <td>2.50</td>\n",
       "      <td>1490</td>\n",
       "      <td>7111</td>\n",
       "      <td>2.0</td>\n",
       "      <td>0</td>\n",
       "      <td>0</td>\n",
       "      <td>3</td>\n",
       "      <td>7</td>\n",
       "      <td>1490</td>\n",
       "      <td>0</td>\n",
       "      <td>1999</td>\n",
       "      <td>0</td>\n",
       "      <td>98065</td>\n",
       "      <td>47.5261</td>\n",
       "      <td>-121.826</td>\n",
       "      <td>1500</td>\n",
       "      <td>4675</td>\n",
       "      <td>0.209535</td>\n",
       "      <td>4.772483</td>\n",
       "    </tr>\n",
       "    <tr>\n",
       "      <th>17114</th>\n",
       "      <td>17114</td>\n",
       "      <td>5566100170</td>\n",
       "      <td>20141029T000000</td>\n",
       "      <td>650000.0</td>\n",
       "      <td>10</td>\n",
       "      <td>2.00</td>\n",
       "      <td>3610</td>\n",
       "      <td>11914</td>\n",
       "      <td>2.0</td>\n",
       "      <td>0</td>\n",
       "      <td>0</td>\n",
       "      <td>4</td>\n",
       "      <td>7</td>\n",
       "      <td>3010</td>\n",
       "      <td>600</td>\n",
       "      <td>1958</td>\n",
       "      <td>0</td>\n",
       "      <td>98006</td>\n",
       "      <td>47.5705</td>\n",
       "      <td>-122.175</td>\n",
       "      <td>2040</td>\n",
       "      <td>11914</td>\n",
       "      <td>0.303005</td>\n",
       "      <td>3.300277</td>\n",
       "    </tr>\n",
       "  </tbody>\n",
       "</table>\n",
       "</div>"
      ],
      "text/plain": [
       "       Unnamed: 0          id             date      price  bedrooms  \\\n",
       "483           483  3374500520  20150429T000000   355000.0         0   \n",
       "1120         1120  6306400140  20140612T000000  1095000.0         0   \n",
       "2356         2356  1773100755  20140821T000000   520000.0        11   \n",
       "2430         2430  1222029077  20141029T000000   265000.0         0   \n",
       "3032         3032  7849202190  20141223T000000   235000.0         0   \n",
       "3425         3425   424049043  20140811T000000   450000.0         9   \n",
       "3609         3609  2569500210  20141117T000000   339950.0         0   \n",
       "3680         3680  8812401450  20141229T000000   660000.0        10   \n",
       "5424         5424  3918400017  20150205T000000   380000.0         0   \n",
       "6409         6409  1453602309  20140805T000000   288000.0         0   \n",
       "8207         8207  8823900290  20150317T000000  1400000.0         9   \n",
       "8446         8446  8823901445  20150313T000000   934000.0         9   \n",
       "8597         8597  2402100895  20140625T000000   640000.0        33   \n",
       "8624         8624  1997200215  20140507T000000   599999.0         9   \n",
       "9286         9286  2954400190  20140624T000000  1295650.0         0   \n",
       "10067       10067  3980300371  20140926T000000   142000.0         0   \n",
       "10074       10074  2310060040  20140925T000000   240000.0         0   \n",
       "11181       11181   627300145  20140814T000000  1148000.0        10   \n",
       "13989       13989  6896300380  20141002T000000   228000.0         0   \n",
       "14156       14156  2902200015  20150106T000000   700000.0         9   \n",
       "15733       15733  7849202299  20150218T000000   320000.0         0   \n",
       "17114       17114  5566100170  20141029T000000   650000.0        10   \n",
       "\n",
       "       bathrooms  sqft_living  sqft_lot  floors  waterfront  view  condition  \\\n",
       "483         0.00         2460      8049     2.0           0     0          3   \n",
       "1120        0.00         3064      4764     3.5           0     2          3   \n",
       "2356        3.00         3000      4960     2.0           0     0          3   \n",
       "2430        0.75          384    213444     1.0           0     0          3   \n",
       "3032        0.00         1470      4800     2.0           0     0          3   \n",
       "3425        7.50         4050      6504     2.0           0     0          3   \n",
       "3609        2.50         2290      8319     2.0           0     0          3   \n",
       "3680        3.00         2920      3745     2.0           0     0          4   \n",
       "5424        0.00         1470       979     3.0           0     2          3   \n",
       "6409        1.50         1430      1650     3.0           0     0          3   \n",
       "8207        4.00         4620      5508     2.5           0     0          3   \n",
       "8446        3.00         2820      4480     2.0           0     0          3   \n",
       "8597        1.75         1620      6000     1.0           0     0          5   \n",
       "8624        4.50         3830      6988     2.5           0     0          3   \n",
       "9286        0.00         4810     28008     2.0           0     0          3   \n",
       "10067       0.00          290     20875     1.0           0     0          1   \n",
       "10074       2.50         1810      5669     2.0           0     0          3   \n",
       "11181       5.25         4590     10920     1.0           0     2          3   \n",
       "13989       1.00          390      5900     1.0           0     0          2   \n",
       "14156       3.00         3680      4400     2.0           0     0          3   \n",
       "15733       2.50         1490      7111     2.0           0     0          3   \n",
       "17114       2.00         3610     11914     2.0           0     0          4   \n",
       "\n",
       "       grade  sqft_above  sqft_basement  yr_built  yr_renovated  zipcode  \\\n",
       "483        8        2460              0      1990             0    98031   \n",
       "1120       7        3064              0      1990             0    98102   \n",
       "2356       7        2400            600      1918          1999    98106   \n",
       "2430       4         384              0      2003             0    98070   \n",
       "3032       7        1470              0      1996             0    98065   \n",
       "3425       7        4050              0      1996             0    98144   \n",
       "3609       8        2290              0      1985             0    98042   \n",
       "3680       7        1860           1060      1913             0    98105   \n",
       "5424       8        1470              0      2006             0    98133   \n",
       "6409       7        1430              0      1999             0    98125   \n",
       "8207      11        3870            750      1915             0    98105   \n",
       "8446       7        1880            940      1918             0    98105   \n",
       "8597       7        1040            580      1947             0    98103   \n",
       "8624       7        2450           1380      1938             0    98103   \n",
       "9286      12        4810              0      1990             0    98053   \n",
       "10067      1         290              0      1963             0    98024   \n",
       "10074      7        1810              0      2003             0    98038   \n",
       "11181      9        2500           2090      2008             0    98004   \n",
       "13989      4         390              0      1953             0    98118   \n",
       "14156      7        2830            850      1908             0    98102   \n",
       "15733      7        1490              0      1999             0    98065   \n",
       "17114      7        3010            600      1958             0    98006   \n",
       "\n",
       "           lat     long  sqft_living15  sqft_lot15  liv_lot_ratio  \\\n",
       "483    47.4095 -122.168           2520        8050       0.305628   \n",
       "1120   47.6362 -122.322           2360        4000       0.643157   \n",
       "2356   47.5560 -122.363           1420        4960       0.604839   \n",
       "2430   47.4177 -122.491           1920      224341       0.001799   \n",
       "3032   47.5265 -121.828           1060        7200       0.306250   \n",
       "3425   47.5923 -122.301           1448        3866       0.622694   \n",
       "3609   47.3473 -122.151           2500        8751       0.275273   \n",
       "3680   47.6635 -122.320           1810        3745       0.779706   \n",
       "5424   47.7145 -122.356           1470        1399       1.501532   \n",
       "6409   47.7222 -122.290           1430        1650       0.866667   \n",
       "8207   47.6684 -122.309           2710        4320       0.838780   \n",
       "8446   47.6654 -122.307           2460        4400       0.629464   \n",
       "8597   47.6878 -122.331           1330        4700       0.270000   \n",
       "8624   47.6927 -122.338           1460        6291       0.548082   \n",
       "9286   47.6642 -122.069           4740       35061       0.171737   \n",
       "10067  47.5308 -121.888           1620       22850       0.013892   \n",
       "10074  47.3493 -122.053           1810        5685       0.319280   \n",
       "11181  47.5861 -122.113           2730       10400       0.420330   \n",
       "13989  47.5260 -122.261           2170        6000       0.066102   \n",
       "14156  47.6374 -122.324           1960        2450       0.836364   \n",
       "15733  47.5261 -121.826           1500        4675       0.209535   \n",
       "17114  47.5705 -122.175           2040       11914       0.303005   \n",
       "\n",
       "       lot_liv_ratio  \n",
       "483         3.271951  \n",
       "1120        1.554830  \n",
       "2356        1.653333  \n",
       "2430      555.843750  \n",
       "3032        3.265306  \n",
       "3425        1.605926  \n",
       "3609        3.632751  \n",
       "3680        1.282534  \n",
       "5424        0.665986  \n",
       "6409        1.153846  \n",
       "8207        1.192208  \n",
       "8446        1.588652  \n",
       "8597        3.703704  \n",
       "8624        1.824543  \n",
       "9286        5.822869  \n",
       "10067      71.982759  \n",
       "10074       3.132044  \n",
       "11181       2.379085  \n",
       "13989      15.128205  \n",
       "14156       1.195652  \n",
       "15733       4.772483  \n",
       "17114       3.300277  "
      ]
     },
     "execution_count": 40,
     "metadata": {},
     "output_type": "execute_result"
    }
   ],
   "source": [
    "df[(df['bedrooms'] >= 9) | (df['bedrooms'] < 1)]"
   ]
  },
  {
   "cell_type": "code",
   "execution_count": 34,
   "metadata": {},
   "outputs": [
    {
     "data": {
      "text/plain": [
       "<matplotlib.axes._subplots.AxesSubplot at 0x7ff0cb215670>"
      ]
     },
     "execution_count": 34,
     "metadata": {},
     "output_type": "execute_result"
    },
    {
     "data": {
      "image/png": "[encoded data removed]",
      "text/plain": [
       "<Figure size 432x288 with 1 Axes>"
      ]
     },
     "metadata": {
      "needs_background": "light"
     },
     "output_type": "display_data"
    }
   ],
   "source": [
    "df.boxplot(column = 'liv_lot_ratio')"
   ]
  },
  {
   "cell_type": "code",
   "execution_count": 35,
   "metadata": {},
   "outputs": [
    {
     "data": {
      "text/plain": [
       "<matplotlib.axes._subplots.AxesSubplot at 0x7ff0c72a07c0>"
      ]
     },
     "execution_count": 35,
     "metadata": {},
     "output_type": "execute_result"
    },
    {
     "data": {
      "image/png": "[encoded data removed]",
      "text/plain": [
       "<Figure size 432x288 with 1 Axes>"
      ]
     },
     "metadata": {
      "needs_background": "light"
     },
     "output_type": "display_data"
    }
   ],
   "source": [
    "df.boxplot(column = 'lot_liv_ratio')"
   ]
  },
  {
   "cell_type": "code",
   "execution_count": null,
   "metadata": {},
   "outputs": [],
   "source": []
  }
 ],
 "metadata": {
  "kernelspec": {
   "display_name": "Python 3",
   "language": "python",
   "name": "python3"
  },
  "language_info": {
   "codemirror_mode": {
    "name": "ipython",
    "version": 3
   },
   "file_extension": ".py",
   "mimetype": "text/x-python",
   "name": "python",
   "nbconvert_exporter": "python",
   "pygments_lexer": "ipython3",
   "version": "3.8.3"
  }
 },
 "nbformat": 4,
 "nbformat_minor": 4
}
